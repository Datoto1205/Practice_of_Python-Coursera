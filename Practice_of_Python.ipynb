{
 "cells": [
  {
   "cell_type": "markdown",
   "metadata": {},
   "source": [
    "# Practice of Python"
   ]
  },
  {
   "cell_type": "markdown",
   "metadata": {},
   "source": [
    "## Declaration"
   ]
  },
  {
   "cell_type": "code",
   "execution_count": 2,
   "metadata": {},
   "outputs": [
    {
     "name": "stdout",
     "output_type": "stream",
     "text": [
      "hello, python!\t\n",
      "\n",
      "\n",
      "hello, python!\t\thello, python!\t\t\n",
      "\n",
      "The length of the firstString is:  5 \n",
      "\n",
      "The letter \"o\" in the firstString repeated for  2  times.\n"
     ]
    }
   ],
   "source": [
    "# Hello World\n",
    "firstString = \"hello\"\n",
    "secondString = \", python!\\t\"\n",
    "print(firstString + secondString)\n",
    "\n",
    "# Combine Strings\n",
    "print(\"\\n\")\n",
    "assembledString = firstString + secondString + \"\\t\"\n",
    "print(2*(assembledString))\n",
    "\n",
    "# Length of String\n",
    "numberOfString = len(firstString)\n",
    "print(\"\\nThe length of the firstString is: \", numberOfString, \"\\n\")\n",
    "\n",
    "numberOfRepeatedString = assembledString.count(\"o\")\n",
    "print(\"The letter \\\"o\\\" in the firstString repeated for \", numberOfRepeatedString, \" times.\")"
   ]
  },
  {
   "cell_type": "code",
   "execution_count": 3,
   "metadata": {},
   "outputs": [
    {
     "name": "stdout",
     "output_type": "stream",
     "text": [
      "5\n",
      "5 muitiply 2 equal to 10\n",
      "\n",
      "0 means False in python\n",
      "The number over than 0 means True in python\n"
     ]
    }
   ],
   "source": [
    "# Integer\n",
    "firstInteger = 5\n",
    "secondInteger = 2\n",
    "print(firstInteger)\n",
    "MultipliedResult = firstInteger*secondInteger\n",
    "\n",
    "print(str(firstInteger) + \" muitiply \" + str(secondInteger) + \" equal to \" + str(MultipliedResult))\n",
    "# I need to transfer integer into string through the function str() if I want to print integer with string together.\n",
    "\n",
    "# Bool\n",
    "firstBool = bool(0)\n",
    "secondBool = bool(2)\n",
    "print(\"\\n0 means \" + str(firstBool) + \" in python\")\n",
    "print(\"The number over than 0 means \" + str(secondBool) + \" in python\")"
   ]
  },
  {
   "cell_type": "code",
   "execution_count": 4,
   "metadata": {
    "scrolled": false
   },
   "outputs": [
    {
     "name": "stdout",
     "output_type": "stream",
     "text": [
      "The second element in the firstArray is: 2\n",
      "The number of elements in the firstArray is: 5\n",
      "\n",
      "The new element is: 6\n",
      "The length of firstArray has been returned to: 5\n",
      "\n",
      "The max element in firstArray is: 5\n",
      "The sum of every elements in firstArray is: 15\n",
      "[2, 3]\n"
     ]
    }
   ],
   "source": [
    "# Array\n",
    "firstArray = [1, 2, 3, 4, 5]\n",
    "print(\"The second element in the firstArray is: \" + str(firstArray[1]))\n",
    "print(\"The number of elements in the firstArray is: \" + str(len(firstArray)))\n",
    "\n",
    "firstArray.append(6)\n",
    "print(\"\\nThe new element is: \" + str(firstArray[5]))\n",
    "firstArray.remove(6)\n",
    "print(\"The length of firstArray has been returned to: \" + str(len(firstArray)))\n",
    "\n",
    "print(\"\\nThe max element in firstArray is: \" + str(max(firstArray)))\n",
    "print(\"The sum of every elements in firstArray is: \" + str(sum(firstArray)))\n",
    "\n",
    "# Slice of An Array\n",
    "secondArray = firstArray[1:3]\n",
    "print(secondArray)\n"
   ]
  },
  {
   "cell_type": "code",
   "execution_count": 13,
   "metadata": {},
   "outputs": [
    {
     "name": "stdout",
     "output_type": "stream",
     "text": [
      "The length of my firstDictionary is: 3\n",
      "The second element of firstDic is: Tina\n",
      "\n",
      "thirdGirlfriend\n",
      "Cindy\n",
      "\n",
      "\n",
      "Tina\n",
      "No value!\n",
      "Tina\n",
      "No value!\n"
     ]
    }
   ],
   "source": [
    "# Dictionary\n",
    "\n",
    "firstDic = {}\n",
    "firstDic[\"firstGirlfriend\"] = \"Cindy\"\n",
    "firstDic[\"secondGirlfriend\"] = \"Tina\"\n",
    "firstDic[\"thirdGirlfriend\"] = \"Betty\"\n",
    "\n",
    "# Search Value with Key\n",
    "print(\"The length of my firstDictionary is: \" + str(len(firstDic)))\n",
    "print(\"The second element of firstDic is: \" + str(firstDic[\"secondGirlfriend\"]))\n",
    "\n",
    "# Search Key with Value\n",
    "for key in firstDic:\n",
    "    if firstDic[key] == \"Betty\":\n",
    "        print(\"\\n\" + str(key))\n",
    "        \n",
    "print(firstDic.get(\"firstGirlfriend\", \"Error\"))\n",
    "print(\"\\n\")\n",
    "\n",
    "# Use Error Type to Prevent Crash\n",
    "try:\n",
    "    print(firstDic[\"secondGirlfriend\"])\n",
    "    print(firstDic[\"forthGirlfriend\"])\n",
    "except KeyError:\n",
    "    print(\"No value!\")\n",
    "\n",
    "# Use .setdefault function to do the same thing\n",
    "print(firstDic.setdefault(\"secondGirlfriend\", \"No value!\"))   # If the value of particular key exist, return the value, or return default value \"No value!\".\n",
    "print(firstDic.setdefault(\"forthGirlfriend\", \"No value!\"))"
   ]
  },
  {
   "cell_type": "markdown",
   "metadata": {},
   "source": [
    "## Control Flow"
   ]
  },
  {
   "cell_type": "code",
   "execution_count": 6,
   "metadata": {},
   "outputs": [
    {
     "name": "stdout",
     "output_type": "stream",
     "text": [
      "2 * 1 = 2\t3 * 1 = 3\t4 * 1 = 4\t5 * 1 = 5\t6 * 1 = 6\t7 * 1 = 7\t8 * 1 = 8\n",
      "2 * 2 = 4\t3 * 2 = 6\t4 * 2 = 8\t5 * 2 = 10\t6 * 2 = 12\t7 * 2 = 14\t8 * 2 = 16\n",
      "2 * 3 = 6\t3 * 3 = 9\t4 * 3 = 12\t5 * 3 = 15\t6 * 3 = 18\t7 * 3 = 21\t8 * 3 = 24\n",
      "2 * 4 = 8\t3 * 4 = 12\t4 * 4 = 16\t5 * 4 = 20\t6 * 4 = 24\t7 * 4 = 28\t8 * 4 = 32\n",
      "2 * 5 = 10\t3 * 5 = 15\t4 * 5 = 20\t5 * 5 = 25\t6 * 5 = 30\t7 * 5 = 35\t8 * 5 = 40\n",
      "2 * 6 = 12\t3 * 6 = 18\t4 * 6 = 24\t5 * 6 = 30\t6 * 6 = 36\t7 * 6 = 42\t8 * 6 = 48\n",
      "2 * 7 = 14\t3 * 7 = 21\t4 * 7 = 28\t5 * 7 = 35\t6 * 7 = 42\t7 * 7 = 49\t8 * 7 = 56\n",
      "2 * 8 = 16\t3 * 8 = 24\t4 * 8 = 32\t5 * 8 = 40\t6 * 8 = 48\t7 * 8 = 56\t8 * 8 = 64\n",
      "2 * 9 = 18\t3 * 9 = 27\t4 * 9 = 36\t5 * 9 = 45\t6 * 9 = 54\t7 * 9 = 63\t8 * 9 = 72\n",
      "\n",
      "Please guess a number between 0 to 5. You could guess for three times.\n",
      "4\n",
      "\n",
      "Bingo!\n"
     ]
    }
   ],
   "source": [
    "# Loop\n",
    "for i in range(1, 10) :\n",
    "    for j in range(2, 9) :\n",
    "        if j == 8:\n",
    "            print(str(j) + \" * \" + str(i) + \" = \" + str(i*j))\n",
    "        else: \n",
    "            print(str(j) + \" * \" + str(i) + \" = \" + str(i*j), end = '\\t')\n",
    "            \n",
    "# Input\n",
    "answer = 4\n",
    "userWinTheGame = bool(0)\n",
    "\n",
    "print(\"\\nPlease guess a number between 0 to 5. You could guess for three times.\")\n",
    "for i in range(1, 4):\n",
    "    userInpu = int(input())\n",
    "    if userInpu == answer:\n",
    "        print(\"\\nBingo!\")\n",
    "        userWinTheGame = bool(1)\n",
    "        break\n",
    "    else: \n",
    "        if i != 3:\n",
    "            print(\"\\nPlease guess again\")\n",
    "        \n",
    "if userWinTheGame == 0:\n",
    "    print(\"\\nGame over!\")\n"
   ]
  },
  {
   "cell_type": "code",
   "execution_count": 12,
   "metadata": {
    "scrolled": true
   },
   "outputs": [
    {
     "name": "stdout",
     "output_type": "stream",
     "text": [
      "I am not single\n",
      "\n",
      "1\n",
      "2\n",
      "3\n",
      "4\n",
      "5\n",
      "\n",
      "\n",
      "Find  be  successfully!\n",
      "Find  o  successfully!\n",
      "Find  be  successfully!\n",
      "Did not find anything!\n",
      "Find  o  successfully!\n",
      "Find  fi  successfully!\n"
     ]
    }
   ],
   "source": [
    "# If & Function with Input and Output\n",
    "def firstFunction(numberOfMyGirlfriend):\n",
    "    if numberOfMyGirlfriend == 0:\n",
    "        return \"I am single\"\n",
    "    else: \n",
    "        return \"I am not single\"\n",
    "\n",
    "print(firstFunction(5) + \"\\n\")\n",
    "\n",
    "# Function with Input of Array\n",
    "def seeTheArray(inputArray):\n",
    "    for i in range(0, len(inputArray)):\n",
    "        print(inputArray[i])\n",
    "        \n",
    "seeTheArray(firstArray)\n",
    "print(\"\\n\")\n",
    "\n",
    "# Find\n",
    "target = [\"bee\", \"zoo\", \"beneficial\", \"face\", \"close\", \"efficient\"]\n",
    "criteria1 = \"be\"\n",
    "criteria2 = \"o\"\n",
    "criteria3 = \"fi\"\n",
    "for i in range(0, len(target)):\n",
    "    if target[i].find(criteria1) == -1:\n",
    "        if target[i].find(criteria2) == -1:\n",
    "            if target[i].find(criteria3) == -1:\n",
    "                print(\"Did not find anything!\")\n",
    "            else:\n",
    "                print(\"Find \", criteria3, \" successfully!\")\n",
    "        else:\n",
    "            print(\"Find \", criteria2, \" successfully!\")\n",
    "    else:\n",
    "        print(\"Find \", criteria1, \" successfully!\")"
   ]
  },
  {
   "cell_type": "code",
   "execution_count": 7,
   "metadata": {},
   "outputs": [
    {
     "name": "stdout",
     "output_type": "stream",
     "text": [
      "[4221, 1425, 12234, 7112, 1110, 20550, 33309, 13254, 7749, 23029, 43310, 7909, 36759, 15601, 27452, 28027, 1898, 24599, 12525, 23254, 39406, 27173, 14317, 40357, 36460, 16244, 15423, 7661, 42275, 1442, 14377, 39068, 16119, 17871, 34594, 22853, 3097, 31312, 2825, 12319, 12806, 448, 12735, 4152, 20161, 19835, 44042, 43607, 47784, 24519]\n"
     ]
    }
   ],
   "source": [
    "# Generate Random Number\n",
    "import random\n",
    "\n",
    "randomMatrix = []\n",
    "for i in range(0, 50):\n",
    "    randomMatrix.append(random.randint(0, 50000))\n",
    "    \n",
    "print(randomMatrix)"
   ]
  },
  {
   "cell_type": "code",
   "execution_count": 9,
   "metadata": {},
   "outputs": [
    {
     "data": {
      "text/plain": [
       "'/Users/lizhengen/Documents/GitHub/Practice-of-My-First-Crawler'"
      ]
     },
     "execution_count": 9,
     "metadata": {},
     "output_type": "execute_result"
    }
   ],
   "source": [
    "import os\n",
    "\n",
    "#os.path.dirname(Practice_of_Python.ipynb)\n",
    "os.getcwd()"
   ]
  },
  {
   "cell_type": "markdown",
   "metadata": {},
   "source": [
    "## Change the backfround of jupyter notebook\n",
    "* The tutorial website I refered to: https://blog.csdn.net/Techmonster/article/details/73382535\n"
   ]
  },
  {
   "cell_type": "markdown",
   "metadata": {},
   "source": [
    "## Some Failed Codes About Crawler with Proxy"
   ]
  },
  {
   "cell_type": "markdown",
   "metadata": {},
   "source": [
    "import requests\n",
    "url = 'https://www.google.com'\n",
    "proxies = {\n",
    "    \"http\": 'http://87.228.34.126:34301', \n",
    "    \"https\": 'https://87.228.34.126:34301'\n",
    "}\n",
    "response = requests.get(url,proxies=proxies)\n",
    "print(response.json())"
   ]
  },
  {
   "cell_type": "code",
   "execution_count": null,
   "metadata": {},
   "outputs": [],
   "source": []
  },
  {
   "cell_type": "markdown",
   "metadata": {},
   "source": [
    "import urllib.request as urlreq\n",
    "import requests\n",
    "# 设置https代理\n",
    "ph = urlreq.ProxyHandler({'https': 'https://87.228.34.126:34301'})\n",
    "oper = urlreq.build_opener(ph)\n",
    "# 将代理安装到全局环境，这样所有请求都会自动使用代理\n",
    "urlreq.install_opener(oper)\n",
    "res = requests.get(\"https://www.google.com\", headers={'User-Agent': 'Mozilla/5.0 (Macintosh; Intel Mac OS X 10_12_2) AppleWebKit/537.36 (KHTML, like Gecko) Chrome/55.0.2883.95 Safari/537.36'})\n",
    "#res = oper.open(\"https://www.google.com\")\n",
    "print(res.read())"
   ]
  },
  {
   "cell_type": "code",
   "execution_count": null,
   "metadata": {},
   "outputs": [],
   "source": []
  },
  {
   "cell_type": "markdown",
   "metadata": {},
   "source": [
    "\n",
    "def use_proxy(proxy_addr,url):\n",
    "\n",
    "    import urllib.request\n",
    "\n",
    "    proxy = urllib.request.ProxyHandler({\"http\":proxy_addr})\n",
    "\n",
    "    opener = urllib.request.build_opener(proxy,urllib.request.HTTPHandler)\n",
    "\n",
    "    urllib.request.install_opener(opener)\n",
    "\n",
    "    data = urllib.request.urlopen(url).read().decode(\"utf-8\")\n",
    "\n",
    "    return data\n",
    "\n",
    "proxy_addr = \"87.228.34.126:34301\"\n",
    "data = use_proxy(proxy_addr,\"http://www.baidu.com\")\n",
    "print(len(data))"
   ]
  },
  {
   "cell_type": "markdown",
   "metadata": {},
   "source": [
    "import urllib.request as request\n",
    "import requests\n",
    "\n",
    "proxies = {\n",
    "    'https': 'https://87.228.34.126:34301',\n",
    "    'http': 'http://87.228.34.126:34301'\n",
    "}\n",
    "headers = {\n",
    "    'user-agent': 'Mozilla/5.0 (Windows NT 10.0; Win64; x64) AppleWebKit/537.36 (KHTML, like Gecko) Chrome/56.0.2924.87 Safari/537.36'\n",
    "}\n",
    "\n",
    "print('--------------使用urllib--------------')\n",
    "google_url = 'http://httpbin.org/ip'\n",
    "opener = request.build_opener(request.ProxyHandler(proxies))\n",
    "request.install_opener(opener)\n",
    "\n",
    "req = request.Request(google_url, headers=headers)\n",
    "response = request.urlopen(req)\n",
    "\n",
    "print(response.read().decode())\n",
    "\n",
    "#print('--------------使用requests--------------')\n",
    "#response = requests.get(google_url, proxies=proxies)\n",
    "#print(response.text)"
   ]
  },
  {
   "cell_type": "code",
   "execution_count": 8,
   "metadata": {},
   "outputs": [
    {
     "name": "stdout",
     "output_type": "stream",
     "text": [
      "{\n",
      "  \"origin\": \"202.120.234.148\"\n",
      "}\n",
      "\n",
      "{\n",
      "  \"origin\": \"202.120.234.148\"\n",
      "}\n",
      "\n"
     ]
    }
   ],
   "source": [
    "import urllib.request as request\n",
    "import requests\n",
    "\n",
    "yo = requests.get('http://httpbin.org/ip')\n",
    "print(yo.text)\n",
    "\n",
    "proxy = {\"https\" : \"https://87.228.34.126:34301\"}\n",
    "hi = requests.get('http://httpbin.org/ip', proxies = proxy)\n",
    "print(hi.text)\n",
    "\n",
    "#import requests\n",
    "#requests.get('http://httpbin.org/ip', proxies={'https': 'https://66.167.100.59:6649'})\n",
    "#requests.get('http://www.google.com', proxies={'https': 'https://66.167.100.59:6649'})"
   ]
  }
 ],
 "metadata": {
  "kernelspec": {
   "display_name": "Python 3",
   "language": "python",
   "name": "python3"
  },
  "language_info": {
   "codemirror_mode": {
    "name": "ipython",
    "version": 3
   },
   "file_extension": ".py",
   "mimetype": "text/x-python",
   "name": "python",
   "nbconvert_exporter": "python",
   "pygments_lexer": "ipython3",
   "version": "3.7.0"
  }
 },
 "nbformat": 4,
 "nbformat_minor": 2
}
